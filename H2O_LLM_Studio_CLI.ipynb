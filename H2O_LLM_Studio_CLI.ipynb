{
  "metadata": {
    "kernelspec": {
      "language": "python",
      "display_name": "Python 3",
      "name": "python3"
    },
    "language_info": {
      "name": "python",
      "version": "3.7.12",
      "mimetype": "text/x-python",
      "codemirror_mode": {
        "name": "ipython",
        "version": 3
      },
      "pygments_lexer": "ipython3",
      "nbconvert_exporter": "python",
      "file_extension": ".py"
    },
    "colab": {
      "provenance": [],
      "gpuType": "T4",
      "include_colab_link": true
    },
    "accelerator": "GPU",
    "gpuClass": "standard"
  },
  "nbformat_minor": 0,
  "nbformat": 4,
  "cells": [
    {
      "cell_type": "markdown",
      "metadata": {
        "id": "view-in-github",
        "colab_type": "text"
      },
      "source": [
        "<a href=\"https://colab.research.google.com/github/Gaurav7888/BhagwadGitaGPT/blob/main/H2O_LLM_Studio_CLI.ipynb\" target=\"_parent\"><img src=\"https://colab.research.google.com/assets/colab-badge.svg\" alt=\"Open In Colab\"/></a>"
      ]
    },
    {
      "cell_type": "markdown",
      "source": [
        "# Finetune a large language model using [H2O LLM Studio](https://github.com/h2oai/h2o-llmstudio)\n",
        "\n",
        "In this notebook, we demonstrate how one can finetune a large language model easily using the **CLI interface** of H2O LLM Studio."
      ],
      "metadata": {
        "id": "a5WqLjn4-chc"
      }
    },
    {
      "cell_type": "code",
      "source": [
        "!git clone https://github.com/h2oai/h2o-llmstudio.git\n",
        "!cd h2o-llmstudio && git checkout ce10af57ff118a2bbb81b5b3eae12273e290299a -q\n",
        "!cp -r h2o-llmstudio/. ./\n",
        "!rm -r h2o-llmstudio"
      ],
      "metadata": {
        "execution": {
          "iopub.status.busy": "2023-04-19T05:04:22.652611Z",
          "iopub.execute_input": "2023-04-19T05:04:22.653611Z",
          "iopub.status.idle": "2023-04-19T05:04:28.381885Z",
          "shell.execute_reply.started": "2023-04-19T05:04:22.653556Z",
          "shell.execute_reply": "2023-04-19T05:04:28.380315Z"
        },
        "trusted": true,
        "colab": {
          "base_uri": "https://localhost:8080/"
        },
        "id": "CD1TvqW8-che",
        "outputId": "ef5426c4-65ec-4b95-d7d2-20ab1e902a5b"
      },
      "execution_count": 4,
      "outputs": [
        {
          "output_type": "stream",
          "name": "stdout",
          "text": [
            "Cloning into 'h2o-llmstudio'...\n",
            "remote: Enumerating objects: 648, done.\u001b[K\n",
            "remote: Counting objects: 100% (473/473), done.\u001b[K\n",
            "remote: Compressing objects: 100% (287/287), done.\u001b[K\n",
            "remote: Total 648 (delta 261), reused 331 (delta 168), pack-reused 175\u001b[K\n",
            "Receiving objects: 100% (648/648), 10.79 MiB | 16.89 MiB/s, done.\n",
            "Resolving deltas: 100% (321/321), done.\n"
          ]
        }
      ]
    },
    {
      "cell_type": "code",
      "source": [
        "# Install pyhon 3.10 that will be used within pipenv\n",
        "!sudo add-apt-repository ppa:deadsnakes/ppa -y > /dev/null\n",
        "!sudo apt install python3.10 python3.10-distutils psmisc -y > /dev/null\n",
        "!curl -sS https://bootstrap.pypa.io/get-pip.py | python3.10 > /dev/null\n",
        "    \n",
        "# install requirements\n",
        "!make setup > /dev/null"
      ],
      "metadata": {
        "execution": {
          "iopub.status.busy": "2023-04-19T05:04:36.253404Z",
          "iopub.execute_input": "2023-04-19T05:04:36.254498Z",
          "iopub.status.idle": "2023-04-19T05:09:08.846475Z",
          "shell.execute_reply.started": "2023-04-19T05:04:36.254436Z",
          "shell.execute_reply": "2023-04-19T05:09:08.844973Z"
        },
        "trusted": true,
        "colab": {
          "base_uri": "https://localhost:8080/"
        },
        "id": "YWdHujUB-chf",
        "outputId": "73c61c06-2c2c-4c19-ad80-64d9735d6940"
      },
      "execution_count": 5,
      "outputs": [
        {
          "output_type": "stream",
          "name": "stdout",
          "text": [
            "\n",
            "WARNING: apt does not have a stable CLI interface. Use with caution in scripts.\n",
            "\n",
            "debconf: unable to initialize frontend: Dialog\n",
            "debconf: (No usable dialog-like program is installed, so the dialog based frontend cannot be used. at /usr/share/perl5/Debconf/FrontEnd/Dialog.pm line 76, <> line 6.)\n",
            "debconf: falling back to frontend: Readline\n",
            "debconf: unable to initialize frontend: Readline\n",
            "debconf: (This frontend requires a controlling tty.)\n",
            "debconf: falling back to frontend: Teletype\n",
            "dpkg-preconfigure: unable to re-open stdin: \n",
            "\u001b[33mWARNING: Running pip as the 'root' user can result in broken permissions and conflicting behaviour with the system package manager. It is recommended to use a virtual environment instead: https://pip.pypa.io/warnings/venv\u001b[0m\u001b[33m\n",
            "\u001b[0m\u001b[33mWARNING: Running pip as the 'root' user can result in broken permissions and conflicting behaviour with the system package manager. It is recommended to use a virtual environment instead: https://pip.pypa.io/warnings/venv\u001b[0m\u001b[33m\n",
            "\u001b[0m\u001b[33mWARNING: Running pip as the 'root' user can result in broken permissions and conflicting behaviour with the system package manager. It is recommended to use a virtual environment instead: https://pip.pypa.io/warnings/venv\u001b[0m\u001b[33m\n",
            "\u001b[0m\u001b[1mCreating a virtualenv for this project...\u001b[0m\n",
            "Pipfile: \u001b[33m\u001b[1m/content/Pipfile\u001b[0m\n",
            "\u001b[1mUsing\u001b[0m \u001b[33m\u001b[1m/usr/bin/python3.10\u001b[0m \u001b[32m(3.10.11)\u001b[0m \u001b[1mto create virtualenv...\u001b[0m\n",
            "⠙\u001b[0m Creating virtual environment...\u001b[K\u001b[36mcreated virtual environment CPython3.10.11.final.0-64 in 798ms\n",
            "  creator Venv(dest=/root/.local/share/virtualenvs/content-cQIIIOO2, clear=False, no_vcs_ignore=False, global=False, describe=CPython3Posix)\n",
            "  seeder FromAppData(download=False, pip=bundle, setuptools=bundle, wheel=bundle, via=copy, app_data_dir=/root/.local/share/virtualenv)\n",
            "    added seed packages: pip==23.1, setuptools==67.6.1, wheel==0.40.0\n",
            "  activators BashActivator,CShellActivator,FishActivator,NushellActivator,PowerShellActivator,PythonActivator\n",
            "\u001b[0m\n",
            "\u001b[K\u001b[?25h\u001b[32m\u001b[22m✔ Successfully created virtual environment!\u001b[39m\u001b[22m\u001b[0m \n",
            "\u001b[32mVirtualenv location: /root/.local/share/virtualenvs/content-cQIIIOO2\u001b[0m\n"
          ]
        }
      ]
    },
    {
      "cell_type": "code",
      "source": [
        "!python -m pip install datasets > /dev/null\n",
        "!mkdir data\n",
        "!mkdir data/oasst-data"
      ],
      "metadata": {
        "id": "cs5_oylrFVbz"
      },
      "execution_count": 7,
      "outputs": []
    },
    {
      "cell_type": "code",
      "source": [
        "!mv /content/data.csv /content/data/oasst-data"
      ],
      "metadata": {
        "id": "OSCQn4IGqCXb"
      },
      "execution_count": 8,
      "outputs": []
    },
    {
      "cell_type": "code",
      "source": [
        "!mv /content/val_data.csv /content/data/oasst-data"
      ],
      "metadata": {
        "id": "Zd9wXm4XqIj4"
      },
      "execution_count": 9,
      "outputs": []
    },
    {
      "cell_type": "markdown",
      "source": [
        "## Configurations\n",
        "\n",
        "In H2O LLM Studio, we use dataclasses to specify various [finetuning parameters](https://github.com/h2oai/h2o-llmstudio/blob/main/docs/parameters.md)."
      ],
      "metadata": {
        "id": "L2I58Les-chf"
      }
    },
    {
      "cell_type": "code",
      "source": [
        "%%writefile cfg_notebook.py\n",
        "\n",
        "import os\n",
        "from dataclasses import dataclass\n",
        "\n",
        "from llm_studio.python_configs.text_causal_language_modeling_config import ConfigProblemBase, ConfigNLPCausalLMDataset, \\\n",
        "    ConfigNLPCausalLMTokenizer, ConfigNLPAugmentation, ConfigNLPCausalLMArchitecture, ConfigNLPCausalLMTraining, \\\n",
        "    ConfigNLPCausalLMPrediction, ConfigNLPCausalLMEnvironment, ConfigNLPCausalLMLogging\n",
        "\n",
        "\n",
        "ROOT_DIR = \"./data/oasst-data/\"\n",
        "@dataclass\n",
        "class Config(ConfigProblemBase):\n",
        "    output_directory: str = \"output/demo_oasst-data/\"\n",
        "    experiment_name: str = \"demo_experiment\"\n",
        "    llm_backbone: str = \"EleutherAI/pythia-1.4b-deduped\"\n",
        "\n",
        "    dataset: ConfigNLPCausalLMDataset = ConfigNLPCausalLMDataset(\n",
        "        train_dataframe=os.path.join(ROOT_DIR, \"data.csv\"),\n",
        "        \n",
        "        validation_strategy=\"automatic\",\n",
        "        validation_dataframe=\"\",\n",
        "        validation_size=0.01,\n",
        "\n",
        "        prompt_column=(\"Instruction\",),\n",
        "        answer_column=\"Output\",\n",
        "        text_prompt_start=\"\",\n",
        "        text_answer_separator=\"\",\n",
        "\n",
        "        add_eos_token_to_prompt=True,\n",
        "        add_eos_token_to_answer=True,\n",
        "        mask_prompt_labels=False,\n",
        "\n",
        "    )\n",
        "    tokenizer: ConfigNLPCausalLMTokenizer = ConfigNLPCausalLMTokenizer(\n",
        "        max_length_prompt=128,\n",
        "        max_length_answer=128,\n",
        "        max_length=128,\n",
        "        padding_quantile=1.0\n",
        "    )\n",
        "    augmentation: ConfigNLPAugmentation = ConfigNLPAugmentation(token_mask_probability=0.0)\n",
        "    architecture: ConfigNLPCausalLMArchitecture = ConfigNLPCausalLMArchitecture(\n",
        "        backbone_dtype=\"float16\",\n",
        "        gradient_checkpointing=False,\n",
        "        force_embedding_gradients=False,\n",
        "        intermediate_dropout=0\n",
        "    )\n",
        "    training: ConfigNLPCausalLMTraining = ConfigNLPCausalLMTraining(\n",
        "        loss_function=\"CrossEntropy\",\n",
        "        optimizer=\"AdamW\",\n",
        "\n",
        "        learning_rate=0.00015,\n",
        "\n",
        "        batch_size=2,\n",
        "        drop_last_batch=True,\n",
        "        epochs=1,\n",
        "        schedule=\"Cosine\",\n",
        "        warmup_epochs=0.0,\n",
        "\n",
        "        weight_decay=0.0,\n",
        "        gradient_clip=0.0,\n",
        "        grad_accumulation=1,\n",
        "\n",
        "        lora=True,\n",
        "        lora_r=4,\n",
        "        lora_alpha=16,\n",
        "        lora_dropout=0.05,\n",
        "        lora_target_modules=\"\",\n",
        "\n",
        "        save_best_checkpoint=False,\n",
        "        evaluation_epochs=1.0,\n",
        "        evaluate_before_training=False,\n",
        "    )\n",
        "    prediction: ConfigNLPCausalLMPrediction = ConfigNLPCausalLMPrediction(\n",
        "        metric=\"BLEU\",\n",
        "\n",
        "        min_length_inference=2,\n",
        "        max_length_inference=256,\n",
        "        batch_size_inference=0,\n",
        "\n",
        "        do_sample=False,\n",
        "        num_beams=2,\n",
        "        temperature=0.3,\n",
        "        repetition_penalty=1.2,\n",
        "    )\n",
        "    environment: ConfigNLPCausalLMEnvironment = ConfigNLPCausalLMEnvironment(\n",
        "        mixed_precision=True,\n",
        "        number_of_workers=4,\n",
        "        seed=1\n",
        "    )"
      ],
      "metadata": {
        "execution": {
          "iopub.status.busy": "2023-04-19T05:18:32.062148Z",
          "iopub.execute_input": "2023-04-19T05:18:32.063333Z",
          "iopub.status.idle": "2023-04-19T05:18:32.078798Z",
          "shell.execute_reply.started": "2023-04-19T05:18:32.063280Z",
          "shell.execute_reply": "2023-04-19T05:18:32.077071Z"
        },
        "trusted": true,
        "colab": {
          "base_uri": "https://localhost:8080/"
        },
        "id": "xWdXojRO-chf",
        "outputId": "84e6c064-fd52-4d69-8b46-e42099b0a1e0"
      },
      "execution_count": 10,
      "outputs": [
        {
          "output_type": "stream",
          "name": "stdout",
          "text": [
            "Overwriting cfg_notebook.py\n"
          ]
        }
      ]
    },
    {
      "cell_type": "code",
      "source": [
        "%%writefile run.sh\n",
        "\n",
        "pipenv run python train.py -C cfg_notebook.py & \n",
        "\n",
        "wait\n",
        "echo \"all done\""
      ],
      "metadata": {
        "execution": {
          "iopub.status.busy": "2023-04-19T05:18:33.037534Z",
          "iopub.execute_input": "2023-04-19T05:18:33.038673Z",
          "iopub.status.idle": "2023-04-19T05:18:33.045040Z",
          "shell.execute_reply.started": "2023-04-19T05:18:33.038615Z",
          "shell.execute_reply": "2023-04-19T05:18:33.043977Z"
        },
        "trusted": true,
        "colab": {
          "base_uri": "https://localhost:8080/"
        },
        "id": "OTYGZLxs-chg",
        "outputId": "46880a8d-2e85-481b-f76f-f3b64939a98a"
      },
      "execution_count": 11,
      "outputs": [
        {
          "output_type": "stream",
          "name": "stdout",
          "text": [
            "Overwriting run.sh\n"
          ]
        }
      ]
    },
    {
      "cell_type": "code",
      "source": [
        "!sh run.sh"
      ],
      "metadata": {
        "execution": {
          "iopub.status.busy": "2023-04-19T05:18:38.982376Z",
          "iopub.execute_input": "2023-04-19T05:18:38.983327Z"
        },
        "trusted": true,
        "colab": {
          "base_uri": "https://localhost:8080/"
        },
        "id": "qvgaBIYF-chh",
        "outputId": "62f6682c-d86d-4a28-ed3c-c07f867de4a9"
      },
      "execution_count": 12,
      "outputs": [
        {
          "output_type": "stream",
          "name": "stdout",
          "text": [
            "/content/train.py:15: DeprecationWarning: The distutils package is deprecated and slated for removal in Python 3.12. Use setuptools or check PEP 632 for potential alternatives\n",
            "  from distutils import util\n",
            "\n",
            "===================================BUG REPORT===================================\n",
            "Welcome to bitsandbytes. For bug reports, please submit your error trace to: https://github.com/TimDettmers/bitsandbytes/issues\n",
            "================================================================================\n",
            "/root/.local/share/virtualenvs/content-cQIIIOO2/lib/python3.10/site-packages/bitsandbytes/cuda_setup/main.py:136: UserWarning: /usr/lib64-nvidia did not contain libcudart.so as expected! Searching further paths...\n",
            "  warn(msg)\n",
            "/root/.local/share/virtualenvs/content-cQIIIOO2/lib/python3.10/site-packages/bitsandbytes/cuda_setup/main.py:136: UserWarning: WARNING: The following directories listed in your path were found to be non-existent: {PosixPath('//ipykernel.pylab.backend_inline'), PosixPath('module')}\n",
            "  warn(msg)\n",
            "/root/.local/share/virtualenvs/content-cQIIIOO2/lib/python3.10/site-packages/bitsandbytes/cuda_setup/main.py:136: UserWarning: WARNING: The following directories listed in your path were found to be non-existent: {PosixPath('--logtostderr --listen_host=172.28.0.12 --target_host=172.28.0.12 --tunnel_background_save_url=https'), PosixPath('//colab.research.google.com/tun/m/cc48301118ce562b961b3c22d803539adc1e0c19/gpu-t4-s-25r4ctg2gqmsg --tunnel_background_save_delay=10s --tunnel_periodic_background_save_frequency=30m0s --enable_output_coalescing=true --output_coalescing_required=true')}\n",
            "  warn(msg)\n",
            "/root/.local/share/virtualenvs/content-cQIIIOO2/lib/python3.10/site-packages/bitsandbytes/cuda_setup/main.py:136: UserWarning: WARNING: The following directories listed in your path were found to be non-existent: {PosixPath('/sys/fs/cgroup/memory.events /var/colab/cgroup/jupyter-children/memory.events')}\n",
            "  warn(msg)\n",
            "/root/.local/share/virtualenvs/content-cQIIIOO2/lib/python3.10/site-packages/bitsandbytes/cuda_setup/main.py:136: UserWarning: WARNING: The following directories listed in your path were found to be non-existent: {PosixPath('/env/python')}\n",
            "  warn(msg)\n",
            "/root/.local/share/virtualenvs/content-cQIIIOO2/lib/python3.10/site-packages/bitsandbytes/cuda_setup/main.py:136: UserWarning: WARNING: The following directories listed in your path were found to be non-existent: {PosixPath('http'), PosixPath('8013'), PosixPath('//172.28.0.1')}\n",
            "  warn(msg)\n",
            "CUDA_SETUP: WARNING! libcudart.so not found in any environmental path. Searching /usr/local/cuda/lib64...\n",
            "CUDA SETUP: CUDA runtime path found: /usr/local/cuda/lib64/libcudart.so\n",
            "CUDA SETUP: Highest compute capability among GPUs detected: 7.5\n",
            "CUDA SETUP: Detected CUDA version 118\n",
            "CUDA SETUP: Loading binary /root/.local/share/virtualenvs/content-cQIIIOO2/lib/python3.10/site-packages/bitsandbytes/libbitsandbytes_cuda118.so...\n",
            "2023-04-26 23:15:00,101 - INFO: Global random seed: 1\n",
            "2023-04-26 23:15:00,101 - INFO: Preparing the data...\n",
            "2023-04-26 23:15:00,101 - INFO: Setting up automatic validation split...\n",
            "2023-04-26 23:15:00,268 - INFO: Preparing train and validation data\n",
            "2023-04-26 23:15:00,269 - INFO: Loading train dataset...\n",
            "Downloading (…)okenizer_config.json: 100% 396/396 [00:00<00:00, 306kB/s]\n",
            "Downloading (…)/main/tokenizer.json: 100% 2.11M/2.11M [00:00<00:00, 2.49MB/s]\n",
            "Downloading (…)cial_tokens_map.json: 100% 99.0/99.0 [00:00<00:00, 111kB/s]\n",
            "Using pad_token, but it is not set yet.\n",
            "Using cls_token, but it is not set yet.\n",
            "Using sep_token, but it is not set yet.\n",
            "2023-04-26 23:15:03,466 - INFO: Loading validation dataset...\n",
            "Using pad_token, but it is not set yet.\n",
            "Using cls_token, but it is not set yet.\n",
            "Using sep_token, but it is not set yet.\n",
            "/root/.local/share/virtualenvs/content-cQIIIOO2/lib/python3.10/site-packages/torch/utils/data/dataloader.py:561: UserWarning: This DataLoader will create 4 worker processes in total. Our suggested max number of worker in current system is 2, which is smaller than what this DataLoader is going to create. Please be aware that excessive worker creation might get DataLoader running slow or even freeze, lower the worker number to avoid potential slowness/freeze if necessary.\n",
            "  warnings.warn(_create_warning_msg(\n",
            "2023-04-26 23:15:03,773 - INFO: Number of observations in train dataset: 709\n",
            "2023-04-26 23:15:03,774 - INFO: Number of observations in validation dataset: 8\n",
            "Downloading (…)lve/main/config.json: 100% 570/570 [00:00<00:00, 409kB/s]\n",
            "2023-04-26 23:15:04,258 - INFO: dtype: torch.float16\n",
            "Downloading pytorch_model.bin: 100% 2.93G/2.93G [00:31<00:00, 93.6MB/s]\n",
            "trainable params: 786432 || all params: 1415434240 || trainable%: 0.055561182411413196\n",
            "2023-04-26 23:15:45,622 - INFO: Training Epoch: 1 / 1\n",
            "2023-04-26 23:15:45,624 - INFO: train loss:   0%|          | 0/354 [00:00<?, ?it/s]\n",
            "Using pad_token, but it is not set yet.\n",
            "Using cls_token, but it is not set yet.\n",
            "Using sep_token, but it is not set yet.\n",
            "2023-04-26 23:15:52,830 - INFO: train loss: 2.24:   5%|4         | 17/354 [00:07<02:22,  2.36it/s]\n",
            "2023-04-26 23:15:55,902 - INFO: train loss: 1.67:  10%|9         | 34/354 [00:10<01:29,  3.56it/s]\n",
            "2023-04-26 23:15:58,955 - INFO: train loss: 1.49:  14%|#4        | 51/354 [00:13<01:11,  4.26it/s]\n",
            "2023-04-26 23:16:02,059 - INFO: train loss: 1.44:  19%|#9        | 68/354 [00:16<01:01,  4.67it/s]\n",
            "2023-04-26 23:16:05,114 - INFO: train loss: 1.43:  24%|##4       | 85/354 [00:19<00:54,  4.96it/s]\n",
            "2023-04-26 23:16:08,228 - INFO: train loss: 1.37:  29%|##8       | 102/354 [00:22<00:49,  5.12it/s]\n",
            "2023-04-26 23:16:10,881 - INFO: train loss: 1.37:  34%|###3      | 119/354 [00:25<00:42,  5.48it/s]\n",
            "2023-04-26 23:16:13,047 - INFO: train loss: 1.34:  38%|###8      | 136/354 [00:27<00:35,  6.06it/s]\n",
            "2023-04-26 23:16:15,207 - INFO: train loss: 1.31:  43%|####3     | 153/354 [00:29<00:30,  6.53it/s]\n",
            "2023-04-26 23:16:17,407 - INFO: train loss: 1.28:  48%|####8     | 170/354 [00:31<00:26,  6.86it/s]\n",
            "2023-04-26 23:16:19,569 - INFO: train loss: 1.31:  53%|#####2    | 187/354 [00:33<00:23,  7.14it/s]\n",
            "2023-04-26 23:16:22,416 - INFO: train loss: 1.33:  58%|#####7    | 204/354 [00:36<00:22,  6.74it/s]\n",
            "2023-04-26 23:16:25,407 - INFO: train loss: 1.35:  62%|######2   | 221/354 [00:39<00:20,  6.38it/s]\n",
            "2023-04-26 23:16:28,600 - INFO: train loss: 1.25:  67%|######7   | 238/354 [00:42<00:19,  6.02it/s]\n",
            "2023-04-26 23:16:31,728 - INFO: train loss: 1.27:  72%|#######2  | 255/354 [00:46<00:16,  5.83it/s]\n",
            "2023-04-26 23:16:34,322 - INFO: train loss: 1.28:  77%|#######6  | 272/354 [00:48<00:13,  6.03it/s]\n",
            "2023-04-26 23:16:36,472 - INFO: train loss: 1.24:  82%|########1 | 289/354 [00:50<00:10,  6.49it/s]\n",
            "2023-04-26 23:16:38,610 - INFO: train loss: 1.18:  86%|########6 | 306/354 [00:52<00:06,  6.87it/s]\n",
            "2023-04-26 23:16:40,755 - INFO: train loss: 1.22:  91%|#########1| 323/354 [00:55<00:04,  7.16it/s]\n",
            "2023-04-26 23:16:42,932 - INFO: train loss: 1.26:  96%|#########6| 340/354 [00:57<00:01,  7.34it/s]\n",
            "2023-04-26 23:16:45,004 - INFO: train loss: 1.24: 100%|##########| 354/354 [00:59<00:00,  5.96it/s]\n",
            "2023-04-26 23:16:45,007 - INFO: Starting validation inference\n",
            "2023-04-26 23:16:45,007 - INFO: validation progress:   0%|          | 0/4 [00:00<?, ?it/s]\n",
            "2023-04-26 23:17:00,708 - INFO: validation progress:  25%|##5       | 1/4 [00:15<00:47, 15.70s/it]\n",
            "2023-04-26 23:17:14,764 - INFO: validation progress:  50%|#####     | 2/4 [00:29<00:29, 14.73s/it]\n",
            "2023-04-26 23:17:27,997 - INFO: validation progress:  75%|#######5  | 3/4 [00:42<00:14, 14.05s/it]\n",
            "2023-04-26 23:17:43,693 - INFO: validation progress: 100%|##########| 4/4 [00:58<00:00, 14.70s/it]\n",
            "2023-04-26 23:17:43,695 - INFO: validation progress: 100%|##########| 4/4 [00:58<00:00, 14.67s/it]\n",
            "2023-04-26 23:17:43,816 - INFO: Mean validation loss: 1.18574\n",
            "2023-04-26 23:17:43,825 - INFO: Validation BLEU: 0.00001\n",
            "2023-04-26 23:17:44,016 - INFO: Saving last model checkpoint: val_loss 1.1857, val_BLEU 1.3123e-05 to output/demo_oasst-data/\n",
            "all done\n"
          ]
        }
      ]
    },
    {
      "cell_type": "code",
      "source": [
        "import pandas as pd\n",
        "val_outputs = pd.read_csv(\"output/demo_oasst-data/validation_predictions.csv\")"
      ],
      "metadata": {
        "trusted": true,
        "id": "gCSRvNNE-chh"
      },
      "execution_count": 16,
      "outputs": []
    },
    {
      "cell_type": "code",
      "source": [
        "val_outputs.head()"
      ],
      "metadata": {
        "colab": {
          "base_uri": "https://localhost:8080/",
          "height": 206
        },
        "id": "IldaY4ObUUwW",
        "outputId": "de752cad-fc8e-479a-f613-9810bf48890c"
      },
      "execution_count": 17,
      "outputs": [
        {
          "output_type": "execute_result",
          "data": {
            "text/plain": [
              "                                         Instruction  \\\n",
              "0  What is the hindi commentary of this sanskrit ...   \n",
              "1  What is the hindi commentary of this sanskrit ...   \n",
              "2  What is the hindi commentary of this sanskrit ...   \n",
              "3  What is the hindi commentary of this sanskrit ...   \n",
              "4  What is the hindi commentary of this sanskrit ...   \n",
              "\n",
              "                                              Output  \\\n",
              "0  This shlok is from chapter 1 and shlok 10Hindi...   \n",
              "1  This shlok is from chapter 6 and shlok 29Hindi...   \n",
              "2  This shlok is from chapter 2 and shlok 44Hindi...   \n",
              "3  This shlok is from chapter 1 and shlok 14Hindi...   \n",
              "4  This shlok is from chapter 4 and shlok 42Hindi...   \n",
              "\n",
              "                                         pred_Output  \n",
              "0  --अध्याय 1.10।. --अध्याय 1.10।. --अध्याय 1.10।...  \n",
              "1  ईक्षते योगयुक्तात्मा सर्वत्र समदर्शनः।।6.29।।1...  \n",
              "2  भोगात्मिका विधीयते हुए कहा जाता है कि भोगात्मि...  \n",
              "3  ।\\n\\n1.14।।1.14।।1.14।।1.14।।1.14।-।1.14।-।1.1...  \n",
              "4  भारतीय विषयोंके अनुसार भारतीय विषयोंके अनुसार ...  "
            ],
            "text/html": [
              "\n",
              "  <div id=\"df-91818715-c76c-44ca-b11e-4299ce270773\">\n",
              "    <div class=\"colab-df-container\">\n",
              "      <div>\n",
              "<style scoped>\n",
              "    .dataframe tbody tr th:only-of-type {\n",
              "        vertical-align: middle;\n",
              "    }\n",
              "\n",
              "    .dataframe tbody tr th {\n",
              "        vertical-align: top;\n",
              "    }\n",
              "\n",
              "    .dataframe thead th {\n",
              "        text-align: right;\n",
              "    }\n",
              "</style>\n",
              "<table border=\"1\" class=\"dataframe\">\n",
              "  <thead>\n",
              "    <tr style=\"text-align: right;\">\n",
              "      <th></th>\n",
              "      <th>Instruction</th>\n",
              "      <th>Output</th>\n",
              "      <th>pred_Output</th>\n",
              "    </tr>\n",
              "  </thead>\n",
              "  <tbody>\n",
              "    <tr>\n",
              "      <th>0</th>\n",
              "      <td>What is the hindi commentary of this sanskrit ...</td>\n",
              "      <td>This shlok is from chapter 1 and shlok 10Hindi...</td>\n",
              "      <td>--अध्याय 1.10।. --अध्याय 1.10।. --अध्याय 1.10।...</td>\n",
              "    </tr>\n",
              "    <tr>\n",
              "      <th>1</th>\n",
              "      <td>What is the hindi commentary of this sanskrit ...</td>\n",
              "      <td>This shlok is from chapter 6 and shlok 29Hindi...</td>\n",
              "      <td>ईक्षते योगयुक्तात्मा सर्वत्र समदर्शनः।।6.29।।1...</td>\n",
              "    </tr>\n",
              "    <tr>\n",
              "      <th>2</th>\n",
              "      <td>What is the hindi commentary of this sanskrit ...</td>\n",
              "      <td>This shlok is from chapter 2 and shlok 44Hindi...</td>\n",
              "      <td>भोगात्मिका विधीयते हुए कहा जाता है कि भोगात्मि...</td>\n",
              "    </tr>\n",
              "    <tr>\n",
              "      <th>3</th>\n",
              "      <td>What is the hindi commentary of this sanskrit ...</td>\n",
              "      <td>This shlok is from chapter 1 and shlok 14Hindi...</td>\n",
              "      <td>।\\n\\n1.14।।1.14।।1.14।।1.14।।1.14।-।1.14।-।1.1...</td>\n",
              "    </tr>\n",
              "    <tr>\n",
              "      <th>4</th>\n",
              "      <td>What is the hindi commentary of this sanskrit ...</td>\n",
              "      <td>This shlok is from chapter 4 and shlok 42Hindi...</td>\n",
              "      <td>भारतीय विषयोंके अनुसार भारतीय विषयोंके अनुसार ...</td>\n",
              "    </tr>\n",
              "  </tbody>\n",
              "</table>\n",
              "</div>\n",
              "      <button class=\"colab-df-convert\" onclick=\"convertToInteractive('df-91818715-c76c-44ca-b11e-4299ce270773')\"\n",
              "              title=\"Convert this dataframe to an interactive table.\"\n",
              "              style=\"display:none;\">\n",
              "        \n",
              "  <svg xmlns=\"http://www.w3.org/2000/svg\" height=\"24px\"viewBox=\"0 0 24 24\"\n",
              "       width=\"24px\">\n",
              "    <path d=\"M0 0h24v24H0V0z\" fill=\"none\"/>\n",
              "    <path d=\"M18.56 5.44l.94 2.06.94-2.06 2.06-.94-2.06-.94-.94-2.06-.94 2.06-2.06.94zm-11 1L8.5 8.5l.94-2.06 2.06-.94-2.06-.94L8.5 2.5l-.94 2.06-2.06.94zm10 10l.94 2.06.94-2.06 2.06-.94-2.06-.94-.94-2.06-.94 2.06-2.06.94z\"/><path d=\"M17.41 7.96l-1.37-1.37c-.4-.4-.92-.59-1.43-.59-.52 0-1.04.2-1.43.59L10.3 9.45l-7.72 7.72c-.78.78-.78 2.05 0 2.83L4 21.41c.39.39.9.59 1.41.59.51 0 1.02-.2 1.41-.59l7.78-7.78 2.81-2.81c.8-.78.8-2.07 0-2.86zM5.41 20L4 18.59l7.72-7.72 1.47 1.35L5.41 20z\"/>\n",
              "  </svg>\n",
              "      </button>\n",
              "      \n",
              "  <style>\n",
              "    .colab-df-container {\n",
              "      display:flex;\n",
              "      flex-wrap:wrap;\n",
              "      gap: 12px;\n",
              "    }\n",
              "\n",
              "    .colab-df-convert {\n",
              "      background-color: #E8F0FE;\n",
              "      border: none;\n",
              "      border-radius: 50%;\n",
              "      cursor: pointer;\n",
              "      display: none;\n",
              "      fill: #1967D2;\n",
              "      height: 32px;\n",
              "      padding: 0 0 0 0;\n",
              "      width: 32px;\n",
              "    }\n",
              "\n",
              "    .colab-df-convert:hover {\n",
              "      background-color: #E2EBFA;\n",
              "      box-shadow: 0px 1px 2px rgba(60, 64, 67, 0.3), 0px 1px 3px 1px rgba(60, 64, 67, 0.15);\n",
              "      fill: #174EA6;\n",
              "    }\n",
              "\n",
              "    [theme=dark] .colab-df-convert {\n",
              "      background-color: #3B4455;\n",
              "      fill: #D2E3FC;\n",
              "    }\n",
              "\n",
              "    [theme=dark] .colab-df-convert:hover {\n",
              "      background-color: #434B5C;\n",
              "      box-shadow: 0px 1px 3px 1px rgba(0, 0, 0, 0.15);\n",
              "      filter: drop-shadow(0px 1px 2px rgba(0, 0, 0, 0.3));\n",
              "      fill: #FFFFFF;\n",
              "    }\n",
              "  </style>\n",
              "\n",
              "      <script>\n",
              "        const buttonEl =\n",
              "          document.querySelector('#df-91818715-c76c-44ca-b11e-4299ce270773 button.colab-df-convert');\n",
              "        buttonEl.style.display =\n",
              "          google.colab.kernel.accessAllowed ? 'block' : 'none';\n",
              "\n",
              "        async function convertToInteractive(key) {\n",
              "          const element = document.querySelector('#df-91818715-c76c-44ca-b11e-4299ce270773');\n",
              "          const dataTable =\n",
              "            await google.colab.kernel.invokeFunction('convertToInteractive',\n",
              "                                                     [key], {});\n",
              "          if (!dataTable) return;\n",
              "\n",
              "          const docLinkHtml = 'Like what you see? Visit the ' +\n",
              "            '<a target=\"_blank\" href=https://colab.research.google.com/notebooks/data_table.ipynb>data table notebook</a>'\n",
              "            + ' to learn more about interactive tables.';\n",
              "          element.innerHTML = '';\n",
              "          dataTable['output_type'] = 'display_data';\n",
              "          await google.colab.output.renderOutput(dataTable, element);\n",
              "          const docLink = document.createElement('div');\n",
              "          docLink.innerHTML = docLinkHtml;\n",
              "          element.appendChild(docLink);\n",
              "        }\n",
              "      </script>\n",
              "    </div>\n",
              "  </div>\n",
              "  "
            ]
          },
          "metadata": {},
          "execution_count": 17
        }
      ]
    },
    {
      "cell_type": "code",
      "source": [
        "for _, row in val_outputs.iloc[2:3].iterrows():\n",
        "    print(\"============\")\n",
        "    print()\n",
        "    print(row.Instruction)\n",
        "    print()\n",
        "    print(\"-----Target Answer-----\")\n",
        "    print()\n",
        "    print(row.Output)\n",
        "    print()\n",
        "    print(\"-----Predicted Answer-----\")\n",
        "    print()\n",
        "    print(row.pred_Output)\n",
        "    print()"
      ],
      "metadata": {
        "trusted": true,
        "colab": {
          "base_uri": "https://localhost:8080/"
        },
        "id": "RF2Lhuro-chi",
        "outputId": "559bb70f-5d7b-41bd-a683-05c1b4134cd2"
      },
      "execution_count": 19,
      "outputs": [
        {
          "output_type": "stream",
          "name": "stdout",
          "text": [
            "============\n",
            "\n",
            "What is the hindi commentary of this sanskrit shlok in bhagvad gita मूल श्लोकः\n",
            "भोगैश्वर्यप्रसक्तानां तयापहृतचेतसाम्।\n",
            "\n",
            "व्यवसायात्मिका बुद्धिः समाधौ न विधीयते।।2.44।।\n",
            "\n",
            "-----Target Answer-----\n",
            "\n",
            "This shlok is from chapter 2 and shlok 44Hindi Commentary By Swami Ramsukhdas\n",
            " 2.44।। व्याख्या -- 'तयापहृतचेतसाम्'-- पूर्वश्लोकोंमें जिस पुष्पित वाणीका वर्णन किया गया है  उस वाणीसे जिनका चित्त अपहृत हो गया है अर्थात् स्वर्गमें बड़ा भारी सुख है दिव्य नन्दनवन है अप्सराएँ हैं अमृत है ऐसी वाणीसे जिनका चित्त उन भोगोंकी तरफ खिंच गया है।\n",
            " 'भोगैश्वर्यप्रसक्तानाम्'-- शब्द स्पर्श रूप रस और गन्ध ये पाँच विषय शरीरका आराम मान और नामकी बड़ाई इनके द्वारा सुख लेनेका नाम भोग है। भोगोंके लिये पदार्थ रूपयेपैसे मकान आदिका जो संग्रह किया जाता है उसका नाम ऐश्वर्य है। इन भोग और ऐश्वर्यमें जिनकी आसक्ति है प्रियता है खिंचाव है अर्थात् इनमें जिनकी महत्त्वबुद्धि है उनको  'भोगैश्वर्यप्रसक्तानाम्'  कहा गया है।\n",
            "\n",
            "जो भोग और ऐश्वर्यमें ही लगे रहते हैं वे आसुरी सम्पत्तिवाले होते हैं। कारण कि असु नाम प्राणोंका है और उन प्राणोंको जो बनाये रखना चाहते हैं उन प्राणपोषणपरायण लोगोंका नाम असुर है। वे शरीरकी प्रधानताको लेकर यहाँके अथवा स्वर्गके भोग भोगना चाहते हैं  (टिप्पणी प0 80) ।\n",
            " 'व्यवसायात्मिका बुद्धिः समाधौ न विधीयते'-- जो मनुष्यजन्मका असली ध्येय है जिसके लिये मनुष्यशरीर मिला है उस परमात्माको ही प्राप्त करना है ऐसी व्यवसायात्मिका बुद्धि उन लोगोंमें नहीं होती। तात्पर्य यह है कि जो भोग भोगे जा चुके हैं जो भोग भोगे जा सकते हैं जिन भोगोंको सुन रखा है और जो भोग सुने जा सकते हैं उनके संस्कारोंके कारण बुद्धिमें जो मलिनता रहती है उस मलिनताके कारण संसारसे सर्वथा विरक्त होकर एक परमात्माकी तरफ चलना है ऐसा दृढ़ निश्चय नहीं होता। ऐसे ही संसारकी अनेक विद्याओं कलाओं आदिका जो संग्रह है उससे मैं विद्वान हूँ मैं जानकार हूँ ऐसा जो अभिमानजन्य सुखका भोग होता है उसमें आसक्त मनुष्योंका भी परमात्मप्राप्तिका एक निश्चय नहीं होता।\n",
            " विशेष बात \n",
            "परमदयालु प्रभुने कृपा करके इस मनुष्यशरीरमें एक ऐसी विलक्षण विवेकशक्ति दी है जिससे वह सुखदुःखसे ऊँचा उठ जाय अपना उद्धार कर ले सबकी सेवा करके भगवान्तकको अपने वशमें कर ले इसीमें मनुष्यशरीरकी सार्थकता है। परन्तु प्रभुप्रदत्त इस विवेकशक्तिका अनादर करके नाशवान् भोग और संग्रहमें आसक्त हो जाना पशुबुद्धि है। कारण कि पशुपक्षी भी भोगोंमें लगे रहते हैं ऐसे ही अगर मनुष्य भी भोगोंमें लगा\n",
            "\n",
            "रहे तो पशुपक्षियोंमें और मनुष्यमें अन्तर ही क्या रहा\n",
            "पशुपक्षी तो भोगयोनि है अतः उनके सामने कर्तव्यका प्रश्न ही नहीं है। परन्तु मनुष्यजन्म तो केवल अपने कर्तव्यका पालन करके अपना उद्धार करनेके लिये ही मिला है भोग भोगनेके लिये नहीं। इसलिये मनुष्यके सामने जो कुछ अनुकूलप्रतिकूल परिस्थिति आती है वह सब साधनसामग्री है भोगसामग्री नहीं। जो उसको भोगसामग्री मान लेते हैं उनकी परमात्मामें व्यवसायात्मिका बुद्धि नहीं होती।\n",
            "वास्तवमें सांसारिक पदार्थ परमात्माकी तरफ चलनेमें बाधा नहीं देते प्रत्युत वर्तमानमें जो भोगोंका महत्व अन्तःकरणमें बैठा हुआ है वही बाधा देता है। भोग उतना नहीं अटकाते जितना भोगोंका महत्व अटकाता है। अटकानेमें अपनी रुचि नीयतकी प्रधानता है। भोग और संग्रहकी रुचिको रखते हुए कोई परमात्माको प्राप्त करना चाहे तो परमात्माकी प्राप्ति तो दूर रही उनकी प्राप्तिका एक निश्चय भी नहीं हो सकता। कारण कि जहाँ परमात्माकी तरफ चलनेकी रुचि है वहीं भोगोंकी रुचि भी है। जबतक भोग और संग्रहमें मानबड़ाईआराममें रुचि है तबतक कोई भी एक निश्चय करके परमात्मामें नहीं लग सकता क्योंकि उसका अन्तःकरण भोगोंकी रुचिद्वारा हर लिया गया उसकी जो शक्ति थी वह भोग और संग्रहमें लग गयी।\n",
            "\n",
            "सम्बन्ध-- किसी बातको पुष्ट करना हो तो पहले उसके दोनों पक्ष सामने रखकर फिर उसको पुष्ट किया जाता है। यहाँ भगवान् निष्कामभावको पुष्ट करना चाहते हैं अतः पीछेके तीन श्लोकोंमें सकामभाववालोंका वर्णन करके अब आगेके श्लोकमें निष्काम होनेकी प्रेरणा करते हैं।\n",
            "\n",
            "-----Predicted Answer-----\n",
            "\n",
            "भोगात्मिका विधीयते हुए कहा जाता है कि भोगात्मिका विधीयते हुए भोगात्मिका विधीयते हुए भोगात्मिका विधीयते हुए भोगात्मिका विधीयते हुए भोगात्मिका विधीयते हुए भोगात्मिका विधीयते हुए भोगात्मिका विधीयते हुए भोगात्मिका विधीयते हुए भोगात्मिका विधीयते हुए भ\n",
            "\n"
          ]
        }
      ]
    },
    {
      "cell_type": "markdown",
      "source": [
        "### Inference and prompting\n",
        "\n",
        "You can also load the trained model and manually prompt it."
      ],
      "metadata": {
        "id": "V25WLegEWkxK"
      }
    },
    {
      "cell_type": "code",
      "source": [
        "!pipenv run python prompt.py --e output/demo_oasst-data/"
      ],
      "metadata": {
        "colab": {
          "base_uri": "https://localhost:8080/"
        },
        "id": "9Zq41w1oN__x",
        "outputId": "be31de9f-aaaf-4525-8922-1107b99fb8a3"
      },
      "execution_count": 28,
      "outputs": [
        {
          "output_type": "stream",
          "name": "stdout",
          "text": [
            "\n",
            "===================================BUG REPORT===================================\n",
            "Welcome to bitsandbytes. For bug reports, please submit your error trace to: https://github.com/TimDettmers/bitsandbytes/issues\n",
            "================================================================================\n",
            "/root/.local/share/virtualenvs/content-cQIIIOO2/lib/python3.10/site-packages/bitsandbytes/cuda_setup/main.py:136: UserWarning: /usr/lib64-nvidia did not contain libcudart.so as expected! Searching further paths...\n",
            "  warn(msg)\n",
            "/root/.local/share/virtualenvs/content-cQIIIOO2/lib/python3.10/site-packages/bitsandbytes/cuda_setup/main.py:136: UserWarning: WARNING: The following directories listed in your path were found to be non-existent: {PosixPath('/sys/fs/cgroup/memory.events /var/colab/cgroup/jupyter-children/memory.events')}\n",
            "  warn(msg)\n",
            "/root/.local/share/virtualenvs/content-cQIIIOO2/lib/python3.10/site-packages/bitsandbytes/cuda_setup/main.py:136: UserWarning: WARNING: The following directories listed in your path were found to be non-existent: {PosixPath('//172.28.0.1'), PosixPath('8013'), PosixPath('http')}\n",
            "  warn(msg)\n",
            "/root/.local/share/virtualenvs/content-cQIIIOO2/lib/python3.10/site-packages/bitsandbytes/cuda_setup/main.py:136: UserWarning: WARNING: The following directories listed in your path were found to be non-existent: {PosixPath('--logtostderr --listen_host=172.28.0.12 --target_host=172.28.0.12 --tunnel_background_save_url=https'), PosixPath('//colab.research.google.com/tun/m/cc48301118ce562b961b3c22d803539adc1e0c19/gpu-t4-s-25r4ctg2gqmsg --tunnel_background_save_delay=10s --tunnel_periodic_background_save_frequency=30m0s --enable_output_coalescing=true --output_coalescing_required=true')}\n",
            "  warn(msg)\n",
            "/root/.local/share/virtualenvs/content-cQIIIOO2/lib/python3.10/site-packages/bitsandbytes/cuda_setup/main.py:136: UserWarning: WARNING: The following directories listed in your path were found to be non-existent: {PosixPath('/env/python')}\n",
            "  warn(msg)\n",
            "/root/.local/share/virtualenvs/content-cQIIIOO2/lib/python3.10/site-packages/bitsandbytes/cuda_setup/main.py:136: UserWarning: WARNING: The following directories listed in your path were found to be non-existent: {PosixPath('//ipykernel.pylab.backend_inline'), PosixPath('module')}\n",
            "  warn(msg)\n",
            "CUDA_SETUP: WARNING! libcudart.so not found in any environmental path. Searching /usr/local/cuda/lib64...\n",
            "CUDA SETUP: CUDA runtime path found: /usr/local/cuda/lib64/libcudart.so\n",
            "CUDA SETUP: Highest compute capability among GPUs detected: 7.5\n",
            "CUDA SETUP: Detected CUDA version 118\n",
            "CUDA SETUP: Loading binary /root/.local/share/virtualenvs/content-cQIIIOO2/lib/python3.10/site-packages/bitsandbytes/libbitsandbytes_cuda118.so...\n",
            "Using pad_token, but it is not set yet.\n",
            "Using cls_token, but it is not set yet.\n",
            "Using sep_token, but it is not set yet.\n",
            "Loading model weights...\n",
            "trainable params: 786432 || all params: 1415434240 || trainable%: 0.055561182411413196\n",
            "\n",
            "=============\n",
            "You can change inference parameters on the fly by typing --param value, such as --num_beams 4. You can also chain them such as --num_beams 4 --top_k 30.\n",
            "\n",
            "Please enter some prompt (type 'exit' to stop): what is the meaning of नैव किञ्चित्करोमीति युक्तो मन्येत तत्त्ववित् । पश्यञ्श‍ृण्वन्स्पृशञ्जिघ्रन्नश्नन्गच्छन्स्वपञ्श्वसन् ॥\n",
            "\n",
            "what is the meaning of नैव किञ्चित्करोमीति युक्तो मन्येत तत्त्ववित् । पश्यञ्श‍ृण्वन्स्पृशञ्जिघ्रन्नश्नन्गच्छन्स्वपञ्श्वसन् ॥<|endoftext|>\n",
            "This shlok is from chapter 2 and shlok 57Hindi Commentary By Swami Ramsukhdas\n",
            "।।18.2।। व्याख्या--'किञ्चित्करोमीति युक्तो मन्येत तत्त्ववित्'--इस तरह के लोकसंस्थानों के लोकसंस्थानों के लोकसंस्थानों के लोकसंस्थानों के लोकसंस्थानों के लोकसंस्थानों के लोकसंस्थानों के लोकसंस्थानों के लोकसंस्थानों के लोकसंस्थान\n",
            "\n",
            "Please enter some prompt (type 'exit' to stop): नैव किञ्चित्करोमीति युक्तो मन्येत तत्त्ववित् । पश्यञ्श‍ृण्वन्स्पृशञ्जिघ्रन्नश्नन्गच्छन्स्वपञ्श्वसन् ॥\n",
            "\n",
            "नैव किञ्चित्करोमीति युक्तो मन्येत तत्त्ववित् । पश्यञ्श‍ृण्वन्स्पृशञ्जिघ्रन्नश्नन्गच्छन्स्वपञ्श्वसन् ॥<|endoftext|>\n",
            "This shlok is from chapter 45 and shlok 108Hindi Commentary By Swami Ramsukhdas\n",
            "।।।16.4।। व्याख्या--'मन्येत तत्त्ववित्'--'मन्येत तत्त्ववित्'--'मन्येत तत्त्ववित्'--'मन्येत तत्त्ववित्'--'मन्येत तत्त्ववित्'--'मन्येत तत्त्ववित्'--'मन्येत तत्त्ववित्'--'मन्येत तत्त्ववित्'--'मन्येत तत्त्ववित्'--'मन्येत तत्त्ववित्'--'मन्येत\n",
            "\n",
            "Please enter some prompt (type 'exit' to stop): Traceback (most recent call last):\n",
            "  File \"/content/prompt.py\", line 100, in <module>\n",
            "    prompt = input(\"Please enter some prompt (type 'exit' to stop): \")\n",
            "KeyboardInterrupt\n",
            "^C\n"
          ]
        }
      ]
    },
    {
      "cell_type": "code",
      "source": [],
      "metadata": {
        "id": "VEqdaVmBV5TG"
      },
      "execution_count": null,
      "outputs": []
    }
  ]
}